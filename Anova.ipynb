{
  "nbformat": 4,
  "nbformat_minor": 0,
  "metadata": {
    "colab": {
      "provenance": [],
      "authorship_tag": "ABX9TyMYot3rZaYF3mY8WJXWHnnz",
      "include_colab_link": true
    },
    "kernelspec": {
      "name": "ir",
      "display_name": "R"
    },
    "language_info": {
      "name": "R"
    }
  },
  "cells": [
    {
      "cell_type": "markdown",
      "metadata": {
        "id": "view-in-github",
        "colab_type": "text"
      },
      "source": [
        "<a href=\"https://colab.research.google.com/github/tontantip/Archive/blob/main/Anova.ipynb\" target=\"_parent\"><img src=\"https://colab.research.google.com/assets/colab-badge.svg\" alt=\"Open In Colab\"/></a>"
      ]
    },
    {
      "cell_type": "code",
      "execution_count": 1,
      "metadata": {
        "id": "ckfXG5D9Edm_",
        "colab": {
          "base_uri": "https://localhost:8080/",
          "height": 34
        },
        "outputId": "bb90aa7f-8aee-45f1-d47c-35136fafe267"
      },
      "outputs": [
        {
          "output_type": "display_data",
          "data": {
            "text/html": [
              "-1.64485362695147"
            ],
            "text/markdown": "-1.64485362695147",
            "text/latex": "-1.64485362695147",
            "text/plain": [
              "[1] -1.644854"
            ]
          },
          "metadata": {}
        }
      ],
      "source": [
        "qnorm(1-0.95)"
      ]
    }
  ]
}